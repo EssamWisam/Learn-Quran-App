{
 "cells": [
  {
   "cell_type": "code",
   "execution_count": 1,
   "metadata": {},
   "outputs": [
    {
     "name": "stdout",
     "output_type": "stream",
     "text": [
      "Collecting AL-Khatma-lib\n",
      "  Downloading AL_Khatma_lib-2.0.3-py3-none-any.whl (32 kB)\n",
      "Installing collected packages: AL-Khatma-lib\n",
      "Successfully installed AL-Khatma-lib-2.0.3\n"
     ]
    }
   ],
   "source": [
    "!pip install AL-Khatma-lib"
   ]
  },
  {
   "cell_type": "code",
   "execution_count": 2,
   "metadata": {},
   "outputs": [
    {
     "name": "stdout",
     "output_type": "stream",
     "text": [
      "# Download DATA Folder in /opt/anaconda3/envs/M1/lib/python3.9/site-packages/AL_Khatma/DATA\n"
     ]
    },
    {
     "name": "stderr",
     "output_type": "stream",
     "text": [
      "100%|██████████| 17/17 [00:37<00:00,  2.22s/it]\n"
     ]
    }
   ],
   "source": [
    "import AL_Khatma\n",
    "AL_Khatma.Download_DATA()"
   ]
  },
  {
   "cell_type": "code",
   "execution_count": 3,
   "metadata": {},
   "outputs": [
    {
     "name": "stdout",
     "output_type": "stream",
     "text": [
      "The Available Tafser The Quran:\n",
      "[0] muyassar\n",
      "[1] mukhtasar\n"
     ]
    }
   ],
   "source": [
    "from AL_Khatma.tafser import tafser\n",
    "taf = tafser('?')"
   ]
  },
  {
   "cell_type": "markdown",
   "metadata": {},
   "source": [
    "Now I copied it from the library folder to here and renamed to `tafsir.json`."
   ]
  },
  {
   "cell_type": "code",
   "execution_count": 5,
   "metadata": {},
   "outputs": [],
   "source": [
    "# read tafsir.json\n",
    "import json\n",
    "with open('tafsirs.json', 'r', encoding='utf-8') as f:\n",
    "    tafsir = json.load(f)\n",
    "    \n",
    "# remove all fields except \"text\", \"ayah\", \"surah\" from each object in tafsir list (did some renaming in file before this):\n",
    "for i in range(len(tafsir)):\n",
    "    tafsir[i] = {k: v for k, v in tafsir[i].items() if k in ['text', 'ayah', 'surah']}\n",
    "\n",
    "# save\n",
    "with open('tafsirs.json', 'w', encoding='utf-8') as f:\n",
    "    json.dump(tafsir, f, ensure_ascii=False, indent=4)"
   ]
  },
  {
   "cell_type": "code",
   "execution_count": 8,
   "metadata": {},
   "outputs": [],
   "source": [
    "# group all objects with the same surah in a list:\n",
    "tafsir_grouped_by_surah = {}\n",
    "for obj in tafsir:\n",
    "    surah_number = obj['surah']\n",
    "    if surah_number not in tafsir_grouped_by_surah:\n",
    "        tafsir_grouped_by_surah[surah_number] = []\n",
    "    tafsir_grouped_by_surah[surah_number].append(obj)\n",
    "\n",
    "# convert the list of (key, list) to list of lists:\n",
    "surahTafsirs = []\n",
    "for surah_number, ayahs in tafsir_grouped_by_surah.items():\n",
    "    surahTafsirs.append(ayahs)\n",
    "\n",
    "# tafsirs.json\n",
    "with open('tafsirs.json', 'w', encoding='utf-8') as f:\n",
    "    json.dump(surahTafsirs, f, ensure_ascii=False, indent=4)"
   ]
  }
 ],
 "metadata": {
  "kernelspec": {
   "display_name": "Python 3",
   "language": "python",
   "name": "python3"
  },
  "language_info": {
   "codemirror_mode": {
    "name": "ipython",
    "version": 3
   },
   "file_extension": ".py",
   "mimetype": "text/x-python",
   "name": "python",
   "nbconvert_exporter": "python",
   "pygments_lexer": "ipython3",
   "version": "3.9.16"
  }
 },
 "nbformat": 4,
 "nbformat_minor": 2
}

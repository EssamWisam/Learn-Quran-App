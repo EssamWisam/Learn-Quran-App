{
 "cells": [
  {
   "cell_type": "markdown",
   "metadata": {},
   "source": [
    "Now let's read the tafsir json and make some transformations for readability."
   ]
  },
  {
   "cell_type": "markdown",
   "metadata": {},
   "source": [
    "Remove extra characters (e.g., dots) between braces so no new lines are inserted there later:"
   ]
  },
  {
   "cell_type": "code",
   "execution_count": 2,
   "metadata": {},
   "outputs": [
    {
     "name": "stdout",
     "output_type": "stream",
     "text": [
      "مرحبا. هذا هو النص العربي {مع النقاط ولكن لا نريدها هنا    }.\n"
     ]
    }
   ],
   "source": [
    "def remove_chars_between_braces(text):\n",
    "    inside_braces = False\n",
    "    result = ''\n",
    "    for char in text:\n",
    "        if char == '{':\n",
    "            inside_braces = True\n",
    "        elif char == '}':\n",
    "            inside_braces = False\n",
    "        elif inside_braces and (char in ['.', \".\", \"_\"]) or (char.isspace() and char !=\" \"):\n",
    "            continue\n",
    "        result += char\n",
    "    return result\n",
    "\n",
    "# Example usage:\n",
    "arabic_string = \"مرحبا. هذا هو النص العربي {مع. النقاط. ولكن. لا نريدها. هنا    }.\"\n",
    "cleaned_string = remove_chars_between_braces(arabic_string)\n",
    "print(cleaned_string)"
   ]
  },
  {
   "cell_type": "markdown",
   "metadata": {},
   "source": [
    "Make the 12 (as in the if conditions) words before the colon italic and bold if they are at the start of the sentence. What italic will do is change the color (has a custom style in the code) but not make actual text italic"
   ]
  },
  {
   "cell_type": "code",
   "execution_count": 3,
   "metadata": {},
   "outputs": [],
   "source": [
    "import re\n",
    "\n",
    "def make_before_colons_italic(input_string):\n",
    "    lines = input_string.split('<br><br>')\n",
    "    processed_lines = []\n",
    "\n",
    "    for line in lines:\n",
    "        parts = line.split(':')\n",
    "        if len(parts) > 1:\n",
    "            before_colon = parts[0]\n",
    "            words_before_colon = len(before_colon.split())\n",
    "            if words_before_colon <= 12:\n",
    "                line = '<b><i>' + before_colon.strip() + ':</i></b>' + ':'.join(parts[1:])\n",
    "        processed_lines.append(line)\n",
    "\n",
    "    return '<br><br>'.join(processed_lines)"
   ]
  },
  {
   "cell_type": "markdown",
   "metadata": {},
   "source": [
    "Extra `<br><br>` tags (white space) will appear at the end of the tafsir after processing so this fixes it"
   ]
  },
  {
   "cell_type": "code",
   "execution_count": 4,
   "metadata": {},
   "outputs": [],
   "source": [
    "def remove_final_br_tags(string):\n",
    "    if string.endswith('<br><br>'):\n",
    "        return string[:-8]  # Removing the last 8 characters (\"<br><br>\")\n",
    "    else:\n",
    "        return string"
   ]
  },
  {
   "cell_type": "markdown",
   "metadata": {},
   "source": [
    "Can remove tashkeel for stemming (not really used here)"
   ]
  },
  {
   "cell_type": "code",
   "execution_count": 5,
   "metadata": {},
   "outputs": [],
   "source": [
    "def remove_tashkeel(text):\n",
    "    return re.sub(u'[\\u064e\\u064f\\u0650\\u0651\\u0652\\u064c\\u064b\\u064d\\u0640\\ufc62]','',text)"
   ]
  },
  {
   "cell_type": "markdown",
   "metadata": {},
   "source": [
    "Special words that should be colored by wrapping in an italic tag"
   ]
  },
  {
   "cell_type": "code",
   "execution_count": 12,
   "metadata": {},
   "outputs": [],
   "source": [
    "special_list = [\n",
    "\"سبحانه\",\n",
    "\"المراد\",\n",
    "\"الله\",\n",
    "\"تعالى\",\n",
    "\"سبحانه\",\n",
    "\"صلى\",\n",
    "\"قال\",\n",
    "\"قوله\",\n",
    "\"عليه\",\n",
    "\"الآية\",\n",
    "\"ابن\",\n",
    "\"القرآن\",\n",
    "\"والمراد\",\n",
    "\"الرسول\",\n",
    "\"وقوله\",\n",
    "\"فقال\",\n",
    "\"الكريم\",\n",
    "\"موسى\",\n",
    "\"النبى\",\n",
    "\"وسلم\",\n",
    "\"القيامة\",\n",
    "\"الإِمام\",\n",
    "\"بالله\",\n",
    "\"سيدنا\",\n",
    "\"محمد\",\n",
    "\"آله\",\n",
    "\"وعلى\",\n",
    "\"وصحبه\",\n",
    "\"وسلم\",\n",
    "\"وصلى\",\n",
    "\"ﷺ\",\n",
    "\"السلام\"\n",
    "]"
   ]
  },
  {
   "cell_type": "code",
   "execution_count": 16,
   "metadata": {},
   "outputs": [
    {
     "data": {
      "application/vnd.jupyter.widget-view+json": {
       "model_id": "366bb140badf46759f4789f241d815ba",
       "version_major": 2,
       "version_minor": 0
      },
      "text/plain": [
       "  0%|          | 0/114 [00:00<?, ?it/s]"
      ]
     },
     "metadata": {},
     "output_type": "display_data"
    }
   ],
   "source": [
    "import json\n",
    "import re\n",
    "from tqdm.notebook import tqdm\n",
    "\n",
    "# read tafsirs.json\n",
    "with open('tafsirs.json') as f:\n",
    "    tafsirs = json.load(f)\n",
    "    \n",
    "with open ('../suras.json') as f:\n",
    "    suras = json.load(f) \n",
    "\n",
    "# Iterate through each list with tqdm\n",
    "for i, surah in tqdm(enumerate(tafsirs), total=len(tafsirs)):\n",
    "    for j, tafsir in enumerate(surah):\n",
    "        tafsirWords = tafsir['text'].split(\" \")\n",
    "        \n",
    "        # Any word just before : should be italic (i.e., be colored as we mentioned above)\n",
    "        for k, tafsirWord in enumerate(tafsirWords[:-1]):\n",
    "            if tafsirWords[k+1] == \":\" :\n",
    "                tafsir['text'] = re.sub(r'\\b{}\\b'.format(re.escape(tafsirWords[k])), f'<i>{tafsirWords[k]}</i>', tafsir['text'])\n",
    "        \n",
    "        \n",
    "\n",
    "\n",
    "        # if you ever find {...} surround it with <b></b> to make it bold\n",
    "        tafsir['text'] = tafsir['text'].replace('{', '{ <b>')\n",
    "        tafsir['text'] = tafsir['text'].replace('}', '</b> }')\n",
    "        tafsir['text'] = tafsir['text'].replace('(', '{ <b>')\n",
    "        tafsir['text'] = tafsir['text'].replace(')', '</b> }')\n",
    "        tafsir['text'] =  tafsir['text'].replace('<b> ', '<b>')\n",
    "        tafsir['text'] =  tafsir['text'].replace(' </b>', '</b>')\n",
    "\n",
    "        # remove any special characters within {.*} for purpose mentioned above\n",
    "        tafsir['text'] = remove_chars_between_braces(tafsir['text'])\n",
    "\n",
    "        # Add new lines after '. ' or '...' unless it's followed by a quote\n",
    "        pattern = r'\\.(?!\")(?! \")(?!\\.)(?! \\.)'\n",
    "        tafsir['text'] = re.sub(pattern, '.<br><br>', tafsir['text'])\n",
    "        pattern = r'\\.\\.\\.(?!\")(?!\\.)'\n",
    "        tafsir['text'] = re.sub(pattern, '...<br><br>', tafsir['text'])\n",
    "\n",
    "        # Remove spaces preceding a dot in the 'text' field\n",
    "        tafsir['text'] = tafsir['text'].replace(' .', '.')\n",
    "        \n",
    "        # if * is not preceded by \\n then add \\n\n",
    "        pattern = r'(?<!<br>)\\*'\n",
    "        tafsir['text'] = re.sub(pattern, r'<br>*', tafsir['text'])\n",
    "        \n",
    "        # if tafsir['text'] starts with <br> then remove it\n",
    "        tafsir['text'] = tafsir['text'].lstrip('<br>')\n",
    "        \n",
    "        # replace * with nothing\n",
    "        tafsir['text'] = tafsir['text'].replace('*', '')\n",
    "\n",
    "        # if • is not  preceded by \\n then add \\n\n",
    "        pattern = r'(?<!<br>)•'\n",
    "        tafsir['text'] = re.sub(pattern, r'<br>•', tafsir['text'])\n",
    "        \n",
    "        # Remove floating dots\n",
    "        tafsir['text'] = tafsir['text'].replace('<br>.<br>', '')\n",
    "\n",
    "        # Make words before colon colored\n",
    "        tafsir['text'] = make_before_colons_italic(tafsir['text'])\n",
    "\n",
    "        # Remove extra new lines at the end\n",
    "        tafsir['text'] =  remove_final_br_tags(tafsir['text'])\n",
    "        \n",
    "        # special words should be italic (i.e., be colored as we mentioned above)\n",
    "        for word in special_list:\n",
    "            pattern = f'(?<![^\\W\\d_])({word})(?![^\\W\\d_])'  # Match the word only if not preceded or followed by a non-alphanumeric character\n",
    "            tafsir['text'] = re.sub(pattern, r'<i>\\1</i>', tafsir['text'])\n",
    "        \n",
    "# save as surahTafsir\n",
    "with open('surahTafsirs.json', 'w') as f:\n",
    "    json.dump(tafsirs, f, ensure_ascii=False, indent=4) "
   ]
  },
  {
   "cell_type": "markdown",
   "metadata": {},
   "source": [
    "Test parsing and reformatting:"
   ]
  },
  {
   "cell_type": "code",
   "execution_count": 8,
   "metadata": {},
   "outputs": [
    {
     "data": {
      "text/html": [
       "<div style=\"direction:rtl\">\n",
       "    إن قومكم إن يطلعوا عليكم ويعلموا بمكانكم يقتلوكم بالرجم بالحجارة، أو يرجعوكم إلى ملتهم المنحرفة التي كنتم عليها قبل أن يمنّ <i>الله</i> عليكم بالهداية إلى دين الحق، وإن رجعتم إليها فلن تفوزوا أبدًا، لا في الحياة الدنيا ولا في الآخرة، بل ستخسرون فيهما الخسران العظيم بسبب ترككم دين الحق الذي هداكم <i>الله</i> إليه، ورجوعكم إلى تلك الملة المنحرفة.<br><br><b><i>* من فوائد الآيات:</i></b>• من حكمة <i>الله</i> وقدرته أن قَلَّبهم على جنوبهم يمينًا وشمالًا بقدر ما لا تفسد الأرض أجسامهم، وهذا تعليم من <i>الله</i> لعباده.<br><br>• جواز اتخاذ الكلاب للحاجة والصيد والحراسة.<br><br>• انتفاع الإنسان بصحبة الأخيار ومخالطة الصالحين حتى لو كان أقل منهم منزلة، فقد حفظ ذكر الكلب لأنه صاحَبَ أهل الفضل.<br><br>• دلت الآيات على مشروعية الوكالة، <i>وعلى</i> حسن السياسة والتلطف في التعامل مع الناس.\n",
       "    </div>\n",
       "    "
      ]
     },
     "metadata": {},
     "output_type": "display_data"
    }
   ],
   "source": [
    "from IPython.display import display_html\n",
    "\n",
    "display_html(\n",
    "    f\"\"\"<div style=\"direction:rtl\">\n",
    "    {tafsirs[17][19]['text']}\n",
    "    </div>\n",
    "    \"\"\"\n",
    "    , raw=True)"
   ]
  },
  {
   "cell_type": "code",
   "execution_count": 9,
   "metadata": {},
   "outputs": [
    {
     "data": {
      "text/plain": [
       "'<b><i>* سورة الحجر مكية * مِن مَّقاصِدِ السُّورَةِ:</i></b>إنذار المكذبين بالعقاب من خلال عرض مشاهد المهلكين، تحذيرًا للمخاطبين وتثبيتًا للمؤمنين.<br><br><b><i>* التَّفْسِيرُ:</i></b>﴿الر﴾ تقدم الكلام على نظائرها في بداية سورة البقرة.<br><br> هذه الآيات رفيعة الشأن الدالة على أنها منزلة من عند <i>الله</i> هي آيات قرآن مُوضِّح للتوحيد والشرائع.'"
      ]
     },
     "execution_count": 9,
     "metadata": {},
     "output_type": "execute_result"
    }
   ],
   "source": [
    "tafsirs[14][0]['text']"
   ]
  },
  {
   "cell_type": "markdown",
   "metadata": {},
   "source": [
    "Get most frequest words to then add in `special_words` list above."
   ]
  },
  {
   "cell_type": "code",
   "execution_count": 10,
   "metadata": {},
   "outputs": [
    {
     "name": "stderr",
     "output_type": "stream",
     "text": [
      "100%|██████████| 200/200 [00:00<00:00, 364880.73it/s]"
     ]
    },
    {
     "name": "stdout",
     "output_type": "stream",
     "text": [
      "1. من\n",
      "2. <i>الله</i>\n",
      "3. في\n",
      "4. -\n",
      "5. على\n",
      "6. لا\n",
      "7. ما\n",
      "8. أن\n",
      "9. إلى\n",
      "10. أيها\n",
      "11. عن\n",
      "12. ولا\n",
      "13. الذي\n",
      "14. إن\n",
      "15. الذين\n",
      "16. به\n",
      "17. <i>عليه</i>\n",
      "18. بما\n",
      "19. <i>الرسول</i>\n",
      "20. إلا\n",
      "21. أو\n",
      "22. ذلك\n",
      "23. لهم\n",
      "24. يوم\n",
      "25. <i>الله</i>،\n",
      "26. هو\n",
      "27. التي\n",
      "28. وما\n",
      "29. فوائد\n",
      "30. له\n",
      "31. كان\n",
      "32. الآيات:</i></b>•\n",
      "33. يا\n",
      "34. كل\n",
      "35. هذا\n",
      "36. فلا\n",
      "37. بعد\n",
      "38. الناس\n",
      "39. <i>بالله</i>\n",
      "40. لكم\n",
      "41. ومن\n",
      "42. عند\n",
      "43. وهو\n",
      "44. فيه\n",
      "45. الدنيا\n",
      "46. لم\n",
      "47. إذا\n",
      "48. فيها\n",
      "49. حتى\n",
      "50. ثم\n",
      "51. عليهم\n",
      "52. هم\n",
      "53. هؤلاء\n",
      "54. مع\n",
      "55. الأرض\n",
      "56. هذه\n",
      "57. أهل\n",
      "58. <i>القيامة</i>\n",
      "59. <i><i>سبحانه</i></i>\n",
      "60. <i>القرآن</i>\n",
      "61. حين\n",
      "62. بل\n",
      "63. به،\n",
      "64. عذاب\n",
      "65. مما\n",
      "66. دون\n",
      "67. وإن\n",
      "68. والله\n",
      "69. لما\n",
      "70. كانوا\n",
      "71. <i>موسى</i>\n",
      "72. الحق\n",
      "73. فإن\n",
      "74. عليكم\n",
      "75. شيء\n",
      "76. بسبب\n",
      "77. بها\n",
      "78. غير\n",
      "79. كما\n",
      "80. المؤمنين\n",
      "81. العذاب\n",
      "82. لله\n",
      "83. <i>تعالى</i>\n",
      "84. مثل\n",
      "85. <b><i><i>قال</i>\n",
      "86. ﷺ\n",
      "87. بين\n",
      "88. الإيمان\n",
      "89. الكفر\n",
      "90. فيما\n",
      "91. منه\n",
      "92. وهم\n",
      "93. وحده\n",
      "94. لمن\n",
      "95. منهم\n",
      "96. فهو\n",
      "97. إليه\n",
      "98. قبل\n",
      "99. أنه\n",
      "100. فقد\n",
      "101. كنتم\n",
      "102. ليس\n",
      "103. آمنوا\n",
      "104. يخفى\n",
      "105. الكفار\n",
      "106. سبيل\n",
      "107. ولم\n",
      "108. <i>محمد</i>\n",
      "109. النبي\n",
      "110. السماوات\n",
      "111. السلام\n",
      "112. المؤمنون\n",
      "113. المشركين\n",
      "114. قد\n",
      "115. <i>قال</i>\n",
      "116. شيء،\n",
      "117. <i>الله</i>.\n",
      "118. ذلك،\n",
      "119. أمر\n",
      "120. المشركون\n",
      "121. قوم\n",
      "122. النار\n",
      "123. فيه،\n",
      "124. جاء\n",
      "125. خلق\n",
      "126. ولو\n",
      "127. ربك\n",
      "128. سورة\n",
      "129. <i>القيامة</i>،\n",
      "130. حيث\n",
      "131. يكون\n",
      "132. الدنيا،\n",
      "133. ذكر\n",
      "134. خير\n",
      "135. <b><i>قل\n",
      "136. كفروا\n",
      "137. منكم\n",
      "138. أنهم\n",
      "139. عباده،\n",
      "140. الحياة\n",
      "141. اليهود\n",
      "142. بها،\n",
      "143. هي\n",
      "144. *\n",
      "145. عليك\n",
      "146. الجنة\n",
      "147. الحق،\n",
      "148. واجتناب\n",
      "149. الآخرة\n",
      "150. الملائكة\n",
      "151. أحد\n",
      "152. له،\n",
      "153. الآيات\n",
      "154. مِن\n",
      "155. إنا\n",
      "156. منها\n",
      "157. فرعون\n",
      "158. أولئك\n",
      "159. بعض\n",
      "160. كانت\n",
      "161. الأرض،\n",
      "162. أم\n",
      "163. <i>عليه</i>،\n",
      "164. رسول\n",
      "165. بامتثال\n",
      "166. يشاء\n",
      "167. أنزل\n",
      "168. بأن\n",
      "169. عما\n",
      "170. أنفسهم\n",
      "171. وقد\n",
      "172. طريق\n",
      "173. إني\n",
      "174. إنما\n",
      "175. وإذا\n",
      "176. والذين\n",
      "177. فما\n",
      "178. لك\n",
      "179. علم\n",
      "180. السماء\n",
      "181. عنه\n",
      "182. أصحاب\n",
      "183. بهم\n",
      "184. فهم\n",
      "185. ولقد\n",
      "186. تلك\n",
      "187. لها\n",
      "188. وهي\n",
      "189. بني\n",
      "190. يعلم\n",
      "191. الأمم\n",
      "192. الرسل\n",
      "193. اليوم\n",
      "194. به.\n",
      "195. عنهم\n",
      "196. وفي\n",
      "197. عباده\n",
      "198. ربهم\n",
      "199. لهم،\n",
      "200. إبراهيم\n"
     ]
    },
    {
     "name": "stderr",
     "output_type": "stream",
     "text": [
      "\n"
     ]
    }
   ],
   "source": [
    "from collections import Counter\n",
    "from tqdm import tqdm\n",
    "\n",
    "# Concatenate all text\n",
    "all_text = ' '.join([tafsir['text'] for surah in tafsirs for tafsir in surah])\n",
    "\n",
    "# Tokenize the text into words\n",
    "words = all_text.split()\n",
    "\n",
    "# Count the frequency of each word\n",
    "word_counts = Counter(words)\n",
    "\n",
    "# Sort the words based on their frequencies\n",
    "sorted_words = sorted(word_counts.items(), key=lambda x: x[1], reverse=True)\n",
    "\n",
    "# Select the top 200 words\n",
    "top_200_words = sorted_words[:200]\n",
    "\n",
    "# Print the top 200 words\n",
    "for i, (word, freq) in tqdm(enumerate(top_200_words), total=200):\n",
    "    print(f\"{i+1}. {word}\")"
   ]
  }
 ],
 "metadata": {
  "kernelspec": {
   "display_name": "Python 3",
   "language": "python",
   "name": "python3"
  },
  "language_info": {
   "codemirror_mode": {
    "name": "ipython",
    "version": 3
   },
   "file_extension": ".py",
   "mimetype": "text/x-python",
   "name": "python",
   "nbconvert_exporter": "python",
   "pygments_lexer": "ipython3",
   "version": "3.9.16"
  }
 },
 "nbformat": 4,
 "nbformat_minor": 2
}

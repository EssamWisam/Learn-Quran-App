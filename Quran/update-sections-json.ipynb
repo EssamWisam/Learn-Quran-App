{
 "cells": [
  {
   "cell_type": "markdown",
   "metadata": {},
   "source": [
    "The JSON we generated for sections has some issues:\n",
    "- Numbers in Arabic\n",
    "- Too much information (e.g., all Ayahs of section; not just start Ayah)\n",
    "- Instead of mapping unused Surah name (since we have index) to sections: it's better to make it flat (indexing yields sections)\n",
    "- By indexing we can get an object that maps each firstAyah to the section to make it front-end access easier"
   ]
  },
  {
   "cell_type": "code",
   "execution_count": 37,
   "metadata": {},
   "outputs": [],
   "source": [
    "import json\n",
    "import convert_numbers\n",
    "\n",
    "# read surahSections.json\n",
    "with open('surahSections.json', 'r') as f:\n",
    "    surahSections = json.load(f)\n",
    "    \n",
    "# flatten the surahSections object into a flat array\n",
    "surahSectionsArray = []\n",
    "for (surahName, sectionsList) in surahSections.items():\n",
    "    surahSectionsArray.append(sectionsList)\n",
    "\n",
    "surahSectionsUpdated = []\n",
    "for k, sectionList in enumerate(surahSectionsArray): # surahSectionsArray:\n",
    "    updatedSectionList = []\n",
    "    for i, section in enumerate(sectionList):\n",
    "        if not 'supertopic' in section:\n",
    "            updatedSection = {\n",
    "                f\"{convert_numbers.arabic_to_english(section['Ayahs'][0]) if len(section['Ayahs']) > 0 else f'UNK{i}'}\": section['text'] \n",
    "            }\n",
    "        elif ('supertopic' in section and section['supertopic']) and k > 0 and i > 0:\n",
    "            try:\n",
    "                # In this case Ayah list will be empty but we will want to render it on top of the firstAyah of the first subsection as well.\n",
    "                sec = sectionList[i+1]['Ayahs'][0]\n",
    "                updatedSection = {\n",
    "                    f'{convert_numbers.arabic_to_english(sec)}S': section['text'] \n",
    "                }\n",
    "            except:\n",
    "                raise Exception(f\"{sectionList[i]}\")\n",
    "        else:\n",
    "            continue\n",
    "        updatedSectionList.append(updatedSection)\n",
    "    surahSectionsUpdated.append(updatedSectionList)\n",
    "        \n",
    "\n",
    "# save updated section as json\n",
    "with open('surahSectionsUpdated.json', 'w') as f:\n",
    "    json.dump(surahSectionsUpdated, f, indent=4, ensure_ascii=False)"
   ]
  },
  {
   "cell_type": "code",
   "execution_count": 9,
   "metadata": {},
   "outputs": [
    {
     "name": "stdout",
     "output_type": "stream",
     "text": [
      "Collecting convert_numbers\n",
      "  Downloading convert_numbers-0.4.tar.gz (319 kB)\n",
      "\u001b[2K     \u001b[90m━━━━━━━━━━━━━━━━━━━━━━━━━━━━━━━━━━━━━\u001b[0m \u001b[32m319.6/319.6 kB\u001b[0m \u001b[31m669.9 kB/s\u001b[0m eta \u001b[36m0:00:00\u001b[0m00:01\u001b[0m00:01\u001b[0m\n",
      "\u001b[?25h  Preparing metadata (setup.py) ... \u001b[?25ldone\n",
      "\u001b[?25hBuilding wheels for collected packages: convert_numbers\n",
      "  Building wheel for convert_numbers (setup.py) ... \u001b[?25ldone\n",
      "\u001b[?25h  Created wheel for convert_numbers: filename=convert_numbers-0.4-py3-none-any.whl size=3807 sha256=e909f7043ccf76f172760ebdbb5c7b74a3393146c1c2a581b6712304bde528f1\n",
      "  Stored in directory: /Users/essam/Library/Caches/pip/wheels/d3/c6/21/e6b463f0fe515639f34720f093ff4bf755565b78b9a45d2f96\n",
      "Successfully built convert_numbers\n",
      "Installing collected packages: convert_numbers\n",
      "Successfully installed convert_numbers-0.4\n"
     ]
    }
   ],
   "source": [
    "!pip install convert_numbers\n"
   ]
  },
  {
   "cell_type": "code",
   "execution_count": null,
   "metadata": {},
   "outputs": [],
   "source": []
  }
 ],
 "metadata": {
  "kernelspec": {
   "display_name": "Python 3",
   "language": "python",
   "name": "python3"
  },
  "language_info": {
   "codemirror_mode": {
    "name": "ipython",
    "version": 3
   },
   "file_extension": ".py",
   "mimetype": "text/x-python",
   "name": "python",
   "nbconvert_exporter": "python",
   "pygments_lexer": "ipython3",
   "version": "3.9.16"
  }
 },
 "nbformat": 4,
 "nbformat_minor": 2
}

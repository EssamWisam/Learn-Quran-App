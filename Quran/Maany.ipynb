{
 "cells": [
  {
   "cell_type": "code",
   "execution_count": 13,
   "metadata": {},
   "outputs": [],
   "source": [
    "import re\n",
    "import json\n",
    "\n",
    "# Function to convert the provided text to JSON format\n",
    "def text_to_json(text):\n",
    "    surahs = {}\n",
    "    ayah_pattern = re.compile(r'^\\((\\d+)\\) (.+)$')\n",
    "\n",
    "    # Split the text by double newlines to separate surahs\n",
    "    surah_texts = text.strip().split('\\n\\n')\n",
    "\n",
    "    for surah_text in surah_texts:\n",
    "        lines = surah_text.splitlines()\n",
    "        current_surah = lines[0].strip()\n",
    "        surahs[current_surah] = {}\n",
    "        current_ayah_num = None\n",
    "        current_ayah = \"\"\n",
    "\n",
    "        for line in lines[1:]:\n",
    "            ayah_match = ayah_pattern.match(line)\n",
    "\n",
    "            if ayah_match:\n",
    "                if current_ayah_num:\n",
    "                    # Save the previous ayah before starting a new one\n",
    "                    words = re.findall(r'﴿([^﴾]+)﴾: (.+?)(?=\\s*﴿|$)', current_ayah)\n",
    "                    surahs[current_surah][current_ayah_num] = {}\n",
    "                    for word in words:\n",
    "                        surahs[current_surah][current_ayah_num][word[0]] = word[1]\n",
    "\n",
    "                current_ayah_num = ayah_match.group(1)\n",
    "                current_ayah = ayah_match.group(2)\n",
    "            elif current_ayah_num and line.strip():\n",
    "                current_ayah += \" \" + line.strip()\n",
    "\n",
    "        if current_ayah_num:\n",
    "            # Save the last ayah after exiting the loop\n",
    "            words = re.findall(r'﴿([^﴾]+)﴾: (.+?)(?=\\s*﴿|$)', current_ayah)\n",
    "            surahs[current_surah][current_ayah_num] = {}\n",
    "            for word in words:\n",
    "                surahs[current_surah][current_ayah_num][word[0]] = word[1]\n",
    "\n",
    "    return surahs\n",
    "\n",
    "# Import the text \"MuyassarGhareeb.txt\"\n",
    "with open('MuyassarGhareeb.txt', 'r', encoding='utf-8') as file:\n",
    "    text = file.read()\n",
    "\n",
    "surasMaany = text_to_json(text)\n",
    "\n",
    "surasMaanyList = []\n",
    "# for each k,v in suraasMaany, append the value to surasMaanyList\n",
    "for k, v in surasMaany.items():\n",
    "    surasMaanyList.append(v)\n",
    "\n",
    "# Save surasMaany\n",
    "with open('surasMaany.json', 'w', encoding='utf-8') as file:\n",
    "    json.dump(surasMaanyList, file, ensure_ascii=False, indent=4)\n"
   ]
  },
  {
   "cell_type": "code",
   "execution_count": null,
   "metadata": {},
   "outputs": [],
   "source": []
  }
 ],
 "metadata": {
  "kernelspec": {
   "display_name": "Python 3",
   "language": "python",
   "name": "python3"
  },
  "language_info": {
   "codemirror_mode": {
    "name": "ipython",
    "version": 3
   },
   "file_extension": ".py",
   "mimetype": "text/x-python",
   "name": "python",
   "nbconvert_exporter": "python",
   "pygments_lexer": "ipython3",
   "version": "3.9.16"
  }
 },
 "nbformat": 4,
 "nbformat_minor": 2
}

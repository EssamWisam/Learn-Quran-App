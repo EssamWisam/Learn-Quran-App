{
 "cells": [
  {
   "cell_type": "markdown",
   "metadata": {},
   "source": [
    "Thankfully [tafsir_api](https://github.com/spa5k/tafsir_api) has many tafsirs sectioned per Ayah. The 114 for Waseet have been downloaded and will be merged here:"
   ]
  },
  {
   "cell_type": "code",
   "execution_count": 2,
   "metadata": {},
   "outputs": [],
   "source": [
    "import glob\n",
    "import json\n",
    "\n",
    "# Get list of JSON file paths sorted by filename\n",
    "jsons = sorted(glob.glob('Tafsirs/*.json'), key=lambda x: int(x.split(\"/\")[-1].split(\".\")[0]))\n",
    "\n",
    "full_tafsir = []\n",
    "for fname in jsons:\n",
    "    with open(fname) as infile:\n",
    "        tafsir = json.load(infile)\n",
    "        tafsir = sorted(tafsir[\"ayahs\"], key=lambda x: x[\"ayah\"])\n",
    "        full_tafsir.append(tafsir)  \n",
    "\n",
    "# Save the merged JSON to a file\n",
    "with open('tafsirs.json', 'w') as f:\n",
    "    json.dump(full_tafsir, f, ensure_ascii=False, indent=4)\n"
   ]
  },
  {
   "cell_type": "code",
   "execution_count": null,
   "metadata": {},
   "outputs": [],
   "source": []
  }
 ],
 "metadata": {
  "kernelspec": {
   "display_name": "Python 3",
   "language": "python",
   "name": "python3"
  },
  "language_info": {
   "codemirror_mode": {
    "name": "ipython",
    "version": 3
   },
   "file_extension": ".py",
   "mimetype": "text/x-python",
   "name": "python",
   "nbconvert_exporter": "python",
   "pygments_lexer": "ipython3",
   "version": "3.9.16"
  }
 },
 "nbformat": 4,
 "nbformat_minor": 2
}

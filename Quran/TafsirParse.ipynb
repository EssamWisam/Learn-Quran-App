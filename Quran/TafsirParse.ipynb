{
 "cells": [
  {
   "cell_type": "markdown",
   "metadata": {},
   "source": [
    "Thankfully [tafsir_api](https://github.com/spa5k/tafsir_api) has many tafsirs sectioned per Ayah. The 114 for Waseet have been downloaded and will be merged here:"
   ]
  },
  {
   "cell_type": "code",
   "execution_count": 1,
   "metadata": {},
   "outputs": [],
   "source": [
    "import glob\n",
    "import json\n",
    "\n",
    "# Get list of JSON file paths sorted by filename\n",
    "jsons = sorted(glob.glob('Tafsirs/*.json'), key=lambda x: int(x.split(\"/\")[-1].split(\".\")[0]))\n",
    "\n",
    "full_tafsir = []\n",
    "for fname in jsons:\n",
    "    with open(fname) as infile:\n",
    "        tafsir = json.load(infile)\n",
    "        tafsir = sorted(tafsir[\"ayahs\"], key=lambda x: x[\"ayah\"])\n",
    "        full_tafsir.append(tafsir)  \n",
    "\n",
    "# Save the merged JSON to a file\n",
    "with open('tafsirs.json', 'w') as f:\n",
    "    json.dump(full_tafsir, f, ensure_ascii=False, indent=4)\n"
   ]
  },
  {
   "cell_type": "markdown",
   "metadata": {},
   "source": [
    "Now let's read the tafsir json and make some transformations for readability."
   ]
  },
  {
   "cell_type": "markdown",
   "metadata": {},
   "source": [
    "Remove extra characters (e.g., dots) between braces so no new lines are inserted there later:"
   ]
  },
  {
   "cell_type": "code",
   "execution_count": 2,
   "metadata": {},
   "outputs": [
    {
     "name": "stdout",
     "output_type": "stream",
     "text": [
      "مرحبا. هذا هو النص العربي {مع النقاط ولكن لا نريدها هنا    }.\n"
     ]
    }
   ],
   "source": [
    "def remove_chars_between_braces(text):\n",
    "    inside_braces = False\n",
    "    result = ''\n",
    "    for char in text:\n",
    "        if char == '{':\n",
    "            inside_braces = True\n",
    "        elif char == '}':\n",
    "            inside_braces = False\n",
    "        elif inside_braces and (char in ['.', \".\", \"_\"]) or (char.isspace() and char !=\" \"):\n",
    "            continue\n",
    "        result += char\n",
    "    return result\n",
    "\n",
    "# Example usage:\n",
    "arabic_string = \"مرحبا. هذا هو النص العربي {مع. النقاط. ولكن. لا نريدها. هنا    }.\"\n",
    "cleaned_string = remove_chars_between_braces(arabic_string)\n",
    "print(cleaned_string)"
   ]
  },
  {
   "cell_type": "markdown",
   "metadata": {},
   "source": [
    "Make the 12 (as in the if conditions) words before the colon italic and bold if they are at the start of the sentence. What italic will do is change the color (has a custom style in the code) but not make actual text italic"
   ]
  },
  {
   "cell_type": "code",
   "execution_count": 3,
   "metadata": {},
   "outputs": [],
   "source": [
    "import re\n",
    "\n",
    "def make_before_colons_italic(input_string):\n",
    "    lines = input_string.split('<br><br>')\n",
    "    processed_lines = []\n",
    "\n",
    "    for line in lines:\n",
    "        parts = line.split(':')\n",
    "        if len(parts) > 1:\n",
    "            before_colon = parts[0]\n",
    "            words_before_colon = len(before_colon.split())\n",
    "            if words_before_colon <= 12:\n",
    "                line = '<b><i>' + before_colon.strip() + ':</i></b>' + ':'.join(parts[1:])\n",
    "        processed_lines.append(line)\n",
    "\n",
    "    return '<br><br>'.join(processed_lines)"
   ]
  },
  {
   "cell_type": "markdown",
   "metadata": {},
   "source": [
    "Extra `<br><br>` tags (white space) will appear at the end of the tafsir after processing so this fixes it"
   ]
  },
  {
   "cell_type": "code",
   "execution_count": 4,
   "metadata": {},
   "outputs": [],
   "source": [
    "def remove_final_br_tags(string):\n",
    "    if string.endswith('<br><br>'):\n",
    "        return string[:-8]  # Removing the last 8 characters (\"<br><br>\")\n",
    "    else:\n",
    "        return string"
   ]
  },
  {
   "cell_type": "markdown",
   "metadata": {},
   "source": [
    "Can remove tashkeel for stemming (not really used here)"
   ]
  },
  {
   "cell_type": "code",
   "execution_count": 5,
   "metadata": {},
   "outputs": [],
   "source": [
    "def remove_tashkeel(text):\n",
    "    return re.sub(u'[\\u064e\\u064f\\u0650\\u0651\\u0652\\u064c\\u064b\\u064d\\u0640\\ufc62]','',text)"
   ]
  },
  {
   "cell_type": "markdown",
   "metadata": {},
   "source": [
    "Special words that should be colored by wrapping in an italic tag"
   ]
  },
  {
   "cell_type": "code",
   "execution_count": 6,
   "metadata": {},
   "outputs": [],
   "source": [
    "special_list = [\n",
    "\"سبحانه\",\n",
    "\"المراد\",\n",
    "\"الله\",\n",
    "\"تعالى\",\n",
    "\"سبحانه\",\n",
    "\"صلى\",\n",
    "\"قال\",\n",
    "\"قوله\",\n",
    "\"عليه\",\n",
    "\"الآية\",\n",
    "\"ابن\",\n",
    "\"القرآن\",\n",
    "\"والمراد\",\n",
    "\"الرسول\",\n",
    "\"وقوله\",\n",
    "\"فقال\",\n",
    "\"الكريم\",\n",
    "\"موسى\",\n",
    "\"النبى\",\n",
    "\"وسلم\",\n",
    "\"القيامة\",\n",
    "\"الإِمام\",\n",
    "\"بالله\",\n",
    "\"سيدنا\",\n",
    "\"محمد\",\n",
    "\"آله\",\n",
    "\"وعلى\",\n",
    "\"وصحبه\",\n",
    "\"وسلم\",\n",
    "\"وصلى\",\n",
    "]"
   ]
  },
  {
   "cell_type": "code",
   "execution_count": 10,
   "metadata": {},
   "outputs": [
    {
     "data": {
      "application/vnd.jupyter.widget-view+json": {
       "model_id": "0731b4c2abca4a7db1164d96ca45ce63",
       "version_major": 2,
       "version_minor": 0
      },
      "text/plain": [
       "  0%|          | 0/114 [00:00<?, ?it/s]"
      ]
     },
     "metadata": {},
     "output_type": "display_data"
    }
   ],
   "source": [
    "import json\n",
    "import re\n",
    "from tqdm.notebook import tqdm\n",
    "\n",
    "# read tafsirs.json\n",
    "with open('tafsirs.json') as f:\n",
    "    tafsirs = json.load(f)\n",
    "    \n",
    "with open ('suras.json') as f:\n",
    "    suras = json.load(f) \n",
    "\n",
    "# Iterate through each list with tqdm\n",
    "for i, surah in tqdm(enumerate(tafsirs), total=len(tafsirs)):\n",
    "    for j, tafsir in enumerate(surah):\n",
    "        tafsirWords = tafsir['text'].split(\" \")\n",
    "        \n",
    "        # Any word just before : should be italic (i.e., be colored as we mentioned above)\n",
    "        for k, tafsirWord in enumerate(tafsirWords[:-1]):\n",
    "            if tafsirWords[k+1] == \":\" :\n",
    "                tafsir['text'] = re.sub(r'\\b{}\\b'.format(re.escape(tafsirWords[k])), f'<i>{tafsirWords[k]}</i>', tafsir['text'])\n",
    "        \n",
    "        # special words should be italic (i.e., be colored as we mentioned above)\n",
    "        for word in special_list:\n",
    "            pattern = f'(?<![^\\W\\d_])({word})(?![^\\W\\d_])'  # Match the word only if not preceded or followed by a non-alphanumeric character\n",
    "            tafsir['text'] = re.sub(pattern, r'<i>\\1</i>', tafsir['text'])\n",
    "\n",
    "\n",
    "        # if you ever find {...} surround it with <b></b> to make it bold\n",
    "        tafsir['text'] = tafsir['text'].replace('{', '{ <b>')\n",
    "        tafsir['text'] = tafsir['text'].replace('}', '</b> }')\n",
    "        tafsir['text'] = tafsir['text'].replace('(', '{ <b>')\n",
    "        tafsir['text'] = tafsir['text'].replace(')', '</b> }')\n",
    "        tafsir['text'] =  tafsir['text'].replace('<b> ', '<b>')\n",
    "        tafsir['text'] =  tafsir['text'].replace(' </b>', '</b>')\n",
    "\n",
    "        # remove any special characters within {.*} for purpose mentioned above\n",
    "        tafsir['text'] = remove_chars_between_braces(tafsir['text'])\n",
    "\n",
    "        # Add new lines after '. ' or '...' unless it's followed by a quote\n",
    "        pattern = r'\\.(?!\")(?! \")(?!\\.)(?! \\.)'\n",
    "        tafsir['text'] = re.sub(pattern, '.<br><br>', tafsir['text'])\n",
    "        pattern = r'\\.\\.\\.(?!\")(?!\\.)'\n",
    "        tafsir['text'] = re.sub(pattern, '...<br><br>', tafsir['text'])\n",
    "\n",
    "        # Remove spaces preceding a dot in the 'text' field\n",
    "        tafsir['text'] = tafsir['text'].replace(' .', '.')\n",
    "        \n",
    "        # Remove floating dots\n",
    "        tafsir['text'] = tafsir['text'].replace('<br>.<br>', '')\n",
    "\n",
    "        # Make words before colon colored\n",
    "        tafsir['text'] = make_before_colons_italic(tafsir['text'])\n",
    "\n",
    "        # Remove extra new lines at the end\n",
    "        tafsir['text'] =  remove_final_br_tags(tafsir['text'])\n",
    "        \n",
    "# save as surahTafsir\n",
    "with open('surahTafsirs.json', 'w') as f:\n",
    "    json.dump(tafsirs, f, ensure_ascii=False, indent=4) "
   ]
  },
  {
   "cell_type": "markdown",
   "metadata": {},
   "source": [
    "Test parsing and reformatting:"
   ]
  },
  {
   "cell_type": "code",
   "execution_count": 13,
   "metadata": {},
   "outputs": [
    {
     "data": {
      "text/html": [
       "<div style=\"direction:rtl\">\n",
       "    <b><i><i>وقوله</i> - <i><i>سبحانه</i></i> -:</i></b> { <b>وكذلك بَعَثْنَاهُمْ لِيَتَسَآءَلُوا بَيْنَهُمْ</b> } ، بيان للعلة التى من أجلها بعث أصحاب الكهف من نومهم الطويل.<br><br><b><i><i><i><i><i><i><i>أى</i></i></i></i></i></i>:</i></b> وكما أنمناهم تلك المدة الطويلة ، بعثناهم من نومهم بعدها ، ليسأل <i>بعضهم</i> بعضا ، وكأنهم قد أحسوا بأن نومهم قد طال.<br><br>والاقتصار على التساؤل الذى حصل الإِيقاظ من أجله ، لا ينفى أن يكون هناك أسباب أخرى غيره حصل من أجلها إيقاظهم ، وإنما أفرده - <i><i>سبحانه</i></i> - بالذكر لاستتباعه لسائر الآثار الأخرى.<br><br><b><i>ثم حكى - <i><i>سبحانه</i></i> - بعض تساؤلهم <i><i><i>فقال</i></i></i>:</i></b> { <b>قَالَ قَائِلٌ مِّنْهُمْ كَم لَبِثْتُمْ</b> } <i><i><i><i><i><i>أى</i></i></i></i></i></i> : كم مكثتم مستغرقين فى النوم فى هذا الكهف.<br><br><b><i>فأجابه <i>بعضهم</i> <i>بقوله</i>:</i></b> { <b>لبثنا يوماً</b> } لظنهم أن الشمس قد غربت ، فلما رأوها لم تغرب بعد <i><i>قالوا</i></i> : { <b>أَوْ بَعْضَ يَوْمٍ</b> } <i><i><i><i><i><i>أى</i></i></i></i></i></i> : مكثنا نائمين بعض ساعات اليوم.<br><br>ويصح أن تكون أو للشك.<br><br> <i><i><i><i><i><i>أى</i></i></i></i></i></i> <i>قال</i> <i>بعضهم</i> فى الرد على سؤال السائل كم لبثتم ، لبثنا فى النوم يوما أو بعض يوم ، لأننا لا ندرى على الحقيقة كم مكثنا نائمين.<br><br>ثم حكى <i>القرآن</i> أن <i>بعضهم</i> رد عِلْمَ مقدار مدة نومهم على جهة اليقين إلى <i>الله</i> - <i>تعالى</i> - <i><i><i>فقال</i></i></i> : { <b>قَالُواْ رَبُّكُمْ أَعْلَمُ بِمَا لَبِثْتُمْ</b> } <i><i><i><i><i><i>أى</i></i></i></i></i></i> : ربكم وحده هو العليم بمقدار الزمن الذى قضيتموه نائمين فى هذا الكهف.<br><br><b><i><i>قال</i> <i>الآلوسى</i>:</i></b> وهذا رد منهم على الأولين ، على أحسن ما يكون من مراعاة حسن الأدب ، وبه كما قيل يتحقق التحزب إلى الحزبين المعهودين فيما سبق فى <i>قوله</i> - <i>تعالى</i> - { <b>لِنَعْلَمَ أَيُّ الحِزْبَيْنِ</b> } وقال <i>بعضهم</i> : وقد استدل <i>ابن</i> عباس على أن عدد الفتية سبعة بهذه <i><i>الآية</i></i> ، لأنه قد <i>قال</i> فى <i><i>الآية</i></i> : <i>قال</i> قائل منهم ، وهذا واحد ، وقالوا فى <i>جوابه</i> : لبثنا يوما ، أو بعض يوم وهو جمع وأقله ثلاثة ، ثم <i><i>قالوا</i></i> : ربكم أعلم بما لبثتم ، وهذا قول جمع آخرين فصاروا سبعة.<br><br>ثم بين - <i><i>سبحانه</i></i> - ما قالوه بعد أن تركوا الحديث فى مسألة الزمن الذى قضوه نائمين فى الكهف <i><i><i>فقال</i></i></i> - <i>تعالى</i> - : { <b>فابعثوا أَحَدَكُمْ بِوَرِقِكُمْ هذه إلى المدينة فَلْيَنْظُرْ أَيُّهَآ أزكى طَعَاماً فَلْيَأْتِكُمْ بِرِزْقٍ مِّنْهُ وَلْيَتَلَطَّفْ وَلاَ يُشْعِرَنَّ بِكُمْ أَحَداً</b> }.<br><br><b><i><i><i><i><i><i><i>أى</i></i></i></i></i></i>:</i></b> كفوا عن الحديث فى مسألة المدة التى نمتموها ، فعلمها عند <i>الله</i> ، وابعثوا أحدكم { <b>بورقكم</b> }.<br><br><b><i><i><i><i><i><i><i>أى</i></i></i></i></i></i>:</i></b> بدراهمكم المضروبة من الفضة ، { <b>إلى المدينة</b> } التى يوجد بها الطعام الذى نحن فى حاجة إليه ، والتى هى أقرب مكان إلى الكهف.<br><br><b><i><i><i>قالوا</i></i>:</i></b> <i>والمراد</i> بها مدينتهم التى كانوا يسكنونها قبل أن يلجأوا إلى الكهف فراراً بدينهم.<br><br><b><i>{ <b>فَلْيَنْظُرْ أَيُّهَآ أزكى طَعَاماً</b> } <i><i><i><i><i><i>أى</i></i></i></i></i></i>:</i></b> ومتى وصل إلى المدينة ، فليتفقد أسواقها ، وليتخير <i><i><i><i><i><i>أى</i></i></i></i></i></i> أطعمتها أحل وأطهر وأجود وأكثر بركة.<br><br><b><i>{ <b>فَلْيَأْتِكُمْ بِرِزْقٍ مِّنْهُ وَلْيَتَلَطَّفْ</b> } <i><i><i><i><i><i>أى</i></i></i></i></i></i>:</i></b> فليأتكم بما يسد جوعكم من ذلك الأزكى طعاما ، فيكون الضمير فى \" منه \" للطعام الأزكى.\n",
       "    </div>\n",
       "    "
      ]
     },
     "metadata": {},
     "output_type": "display_data"
    }
   ],
   "source": [
    "from IPython.display import display_html\n",
    "\n",
    "display_html(\n",
    "    f\"\"\"<div style=\"direction:rtl\">\n",
    "    {tafsirs[17][19]['text']}\n",
    "    </div>\n",
    "    \"\"\"\n",
    "    , raw=True)"
   ]
  },
  {
   "cell_type": "code",
   "execution_count": 88,
   "metadata": {},
   "outputs": [
    {
     "data": {
      "text/plain": [
       "'سورة الحجر من السور التى افتتحت ببعض حروف التهجى { <b>الر</b> }.<br><br>وقد بينا - بشئ من التفصيل - عند تفسيرنا <i>لسورة</i> : البقرة ، وآل عمران ، والأعراف...<br><br>آراء العلماء فى هذه الحروف التى افتتحت بها بعض سور القرآن الكريم.<br><br>وقلنا ما <i>خلاصته</i> : من العلماء من يرى أن المعنى المقصود منها غير معروف لأنها من المتشابه الذى استأثر الله بعلمه...<br><br>ومنهم من يرى أن المعنى المقصود منها معلوم ، وأنها ليست من المتشابه ، بل هى أسماء للسور التى افتتحت بها...<br><br> أو هى حروف مقطعة بعضها من أسماء الله ، وبعضها من صفاته...<br><br>ثم <i>قلنا</i> : ولعل أقرب الآراء إلى الصواب أن <i><i>يقال</i></i> : إن هذه الحروف المقطعة ، قد وردت فى افتتاح بعض السور؛ للإِشعار بأن هذا القرآن الذى تحدى الله به المشركين ، هو من جنس الكلام المركب من هذه الحروف التى يعرفونها ، ويقدرون على تأليف الكلام منها ، فإذا عجزوا عن الإِتيان بسورة من مثله ، فذلك لبلوغه فى الفصاحة والحكمة مرتبة يقف فصحاؤهم وبلغاؤهم دونها بمراحل.<br><br>وفضلاً عن ذلك فإن تصدير بعض السور بمثل هذه الحروف المقطعة ، يجذب أنظار المعرضين عن استماع القرآن حين يتلى عليهم إلى الإِنصات والتدبر ، لأنه يطرق أسماعهم فى أول التلاوة ألفاظ غير مألوفة فى مجارى كلامهم وذلك مما يلفت أنظارهم ليتبينوا ما يراد منها ، فيسمعوا حكماً وهدايات قد تكون سبباً فى استجابتهم للحق ، كما استجاب صالحو الجن الذين حكى الله - تعالى - عنهم أنهم عندما استمعوا إلى القرآن <i>قالوا</i> : { <b>إِنَّا سَمِعْنَا قُرْآناً عَجَباً يهدي إِلَى الرشد فَآمَنَّا بِهِ وَلَن نُّشرِكَ بِرَبِّنَآ أَحَداً    </b> } واسم الإِشارة { <b>تلك</b> } يعود إلى الآيات التى تضمنتها هذه السورة ، أو إلى جميع الآيات القرآنية التى نزلت قبل ذلك.<br><br>والمراد <i>بالكتاب</i> : القرآن الكريم ، ولا يقدح فى هذا ، ذكر لفظ القرآن بعده ، لأنه - سبحانه - جمع له بين الاسمين تفخيماً لشأنه ، وتعظيماً لقدره.<br><br>و { <b>مبين</b> } اسم فاعل من أبان الذى هو بمعنى بان ، مبالغة فى الوضوح والظهور.<br><br>قال صاحب <i>الصحاح</i> : <i><i>يقال</i></i> : \" بان الشئ يبين بيانا ، أى اتضح ، فهو بين وكذا أبان الشئ فهو مبين... \".<br><br>والمعنى : تلك - أيها الناس - آيات بينات من الكتاب الكامل فى جنسه ، ومن القرآن العظيم الشأن ، الواضح فى حكمه وأحكامه ، المبين فى هدايته وإعجازه فأقبلوا عليها بالحفظ لها ، وبالعمل بتوجيهاتها ، لتنالوا السعادة فى دنياكم وآخرتكم.<br><br>قال <i>الآلوسى</i> : \" وفى جمع وصفى الكتابية والقرآنية من تفخيم شأن القرآن ما فيه ، حيث أشير بالأول إلى اشتماله على صفات كمال جنس الكتب الإِلهية فكأنه كلها ، وبالثانى إلى كونه ممتازاً عن غيره ، نسيجا وحده ، بديعاً فى بابه ، خارجاً عن دائرة البيان ، قرآناً غير ذى عوج.. \".<br><br>'"
      ]
     },
     "execution_count": 88,
     "metadata": {},
     "output_type": "execute_result"
    }
   ],
   "source": [
    "tafsirs[14][0]['text']"
   ]
  },
  {
   "cell_type": "markdown",
   "metadata": {},
   "source": [
    "Get most frequest words to then add in `special_words` list above."
   ]
  },
  {
   "cell_type": "code",
   "execution_count": 85,
   "metadata": {},
   "outputs": [
    {
     "name": "stderr",
     "output_type": "stream",
     "text": [
      "100%|██████████| 200/200 [00:00<00:00, 279433.98it/s]"
     ]
    },
    {
     "name": "stdout",
     "output_type": "stream",
     "text": [
      "1. ،\n",
      "2. -\n",
      "3. :\n",
      "4. من\n",
      "5. فى\n",
      "6. الله\n",
      "7. على\n",
      "8. أن\n",
      "9. ما\n",
      "10. تعالى\n",
      "11. إلى\n",
      "12. عليه\n",
      "13. _أى_\n",
      "14. عن\n",
      "15. لا\n",
      "16. \"\n",
      "17. _سبحانه_\n",
      "18. هذا\n",
      "19. في\n",
      "20. أو\n",
      "21. ذلك\n",
      "22. صلى\n",
      "23. ثم\n",
      "24. _قال_\n",
      "25. الذى\n",
      "26. به\n",
      "27. هذه\n",
      "28. هو\n",
      "29. وسلم\n",
      "30. الذين\n",
      "31. ولا\n",
      "32. كان\n",
      "33. التى\n",
      "34. وهو\n",
      "35. كل\n",
      "36. بعد\n",
      "37. قال\n",
      "38. كما\n",
      "39. _فقال_\n",
      "40. إذا\n",
      "41. قد\n",
      "42. بين\n",
      "43. قوله\n",
      "44. لأن\n",
      "45. _قوله_\n",
      "46. أنه\n",
      "47. إلا\n",
      "48. له\n",
      "49. فيه\n",
      "50. لم\n",
      "51. وقوله\n",
      "52. لهم\n",
      "53. وقد\n",
      "54. إن\n",
      "55. ومن\n",
      "56. الآية\n",
      "57. الناس\n",
      "58. ابن\n",
      "59. مع\n",
      "60. \".\n",
      "61. الكريمة\n",
      "62. القرآن\n",
      "63. يكون\n",
      "64. حتى\n",
      "65. بما\n",
      "66. عند\n",
      "67. وما\n",
      "68. عليهم\n",
      "69. بأن\n",
      "70. فإن\n",
      "71. بها\n",
      "72. رسول\n",
      "73. لما\n",
      "74. وفى\n",
      "75. هؤلاء\n",
      "76. السلام\n",
      "77. _والمراد_\n",
      "78. يا\n",
      "79. الحق\n",
      "80. بن\n",
      "81. _الله_\n",
      "82. فِي\n",
      "83. يوم\n",
      "84. إليه\n",
      "85. فيها\n",
      "86. **}\n",
      "87. المؤمنين\n",
      "88. بعض\n",
      "89. بمعنى\n",
      "90. غير\n",
      "91. الرسول\n",
      "92. _تعالى_\n",
      "93. منه\n",
      "94. أيها\n",
      "95. الأرض\n",
      "96. لأنه\n",
      "97. _وقوله_\n",
      "98. _أي_\n",
      "99. الدنيا\n",
      "100. الذي\n",
      "101. فقد\n",
      "102. منهم\n",
      "103. فقال\n",
      "104. بل\n",
      "105. أهل\n",
      "106. عنه\n",
      "107. وأن\n",
      "108. أى_\n",
      "109. مِن\n",
      "110. أنهم\n",
      "111. وقال\n",
      "112. كانوا\n",
      "113. أى\n",
      "114. بيان\n",
      "115. و\n",
      "116. الكريم\n",
      "117. سبيل\n",
      "118. وإنما\n",
      "119. أمر\n",
      "120. المراد\n",
      "121. بسبب\n",
      "122. موسى\n",
      "123. _يقال_\n",
      "124. -.\n",
      "125. ولم\n",
      "126. ذكر\n",
      "127. التي\n",
      "128. الآيات\n",
      "129. فهو\n",
      "130. صاحب\n",
      "131. الأمر\n",
      "132. وهى\n",
      "133. قبل\n",
      "134. النبى\n",
      "135. هنا\n",
      "136. وعلى\n",
      "137. مَا\n",
      "138. هم\n",
      "139. بهم\n",
      "140. وقوله_\n",
      "141. حال\n",
      "142. وهذا\n",
      "143. فيما\n",
      "144. منها\n",
      "145. كانت\n",
      "146. لكم\n",
      "147. _وسلم_\n",
      "148. إذ\n",
      "149. إِلاَّ\n",
      "150. حيث\n",
      "151. **}.\n",
      "152. وإن\n",
      "153. والمعنى_\n",
      "154. محمد\n",
      "155. هى\n",
      "156. الكتاب\n",
      "157. _بقوله_\n",
      "158. ليس\n",
      "159. مما\n",
      "160. القيامة\n",
      "161. دون\n",
      "162. لاَ\n",
      "163. جاء\n",
      "164. طريق\n",
      "165. فلا\n",
      "166. جمع\n",
      "167. أما\n",
      "168. العذاب\n",
      "169. عليها\n",
      "170. تكون\n",
      "171. وهم\n",
      "172. المشركين\n",
      "173. أحد\n",
      "174. لله\n",
      "175. الإِمام\n",
      "176. تلك\n",
      "177. _قلت_\n",
      "178. فلان\n",
      "179. _هنا_\n",
      "180. شئ\n",
      "181. يعود\n",
      "182. أَن\n",
      "183. اليهود\n",
      "184. معنى\n",
      "185. إنما\n",
      "186. _لهم_\n",
      "187. اسم\n",
      "188. لها\n",
      "189. الكفر\n",
      "190. ولكن\n",
      "191. بالله\n",
      "192. السورة\n",
      "193. عز\n",
      "194. _ذلك_\n",
      "195. أخرى\n",
      "196. {**إِنَّ\n",
      "197. وذلك\n",
      "198. مِنَ\n",
      "199. بذلك\n",
      "200. لأنهم\n"
     ]
    },
    {
     "name": "stderr",
     "output_type": "stream",
     "text": [
      "\n"
     ]
    }
   ],
   "source": [
    "from collections import Counter\n",
    "from tqdm import tqdm\n",
    "\n",
    "# Concatenate all text\n",
    "all_text = ' '.join([tafsir['text'] for surah in tafsirs for tafsir in surah])\n",
    "\n",
    "# Tokenize the text into words\n",
    "words = all_text.split()\n",
    "\n",
    "# Count the frequency of each word\n",
    "word_counts = Counter(words)\n",
    "\n",
    "# Sort the words based on their frequencies\n",
    "sorted_words = sorted(word_counts.items(), key=lambda x: x[1], reverse=True)\n",
    "\n",
    "# Select the top 200 words\n",
    "top_200_words = sorted_words[:200]\n",
    "\n",
    "# Print the top 200 words\n",
    "for i, (word, freq) in tqdm(enumerate(top_200_words), total=200):\n",
    "    print(f\"{i+1}. {word}\")"
   ]
  }
 ],
 "metadata": {
  "kernelspec": {
   "display_name": "Python 3",
   "language": "python",
   "name": "python3"
  },
  "language_info": {
   "codemirror_mode": {
    "name": "ipython",
    "version": 3
   },
   "file_extension": ".py",
   "mimetype": "text/x-python",
   "name": "python",
   "nbconvert_exporter": "python",
   "pygments_lexer": "ipython3",
   "version": "3.9.16"
  }
 },
 "nbformat": 4,
 "nbformat_minor": 2
}

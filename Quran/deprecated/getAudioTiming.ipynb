{
 "cells": [
  {
   "cell_type": "markdown",
   "metadata": {},
   "source": [
    "Sad"
   ]
  },
  {
   "cell_type": "code",
   "execution_count": 18,
   "metadata": {},
   "outputs": [
    {
     "data": {
      "text/plain": [
       "7575.936189"
      ]
     },
     "execution_count": 18,
     "metadata": {},
     "output_type": "execute_result"
    }
   ],
   "source": [
    "from pydub.utils import mediainfo\n",
    "\n",
    "float(mediainfo(\"https://cdn.islamic.network/quran/audio-surah/128/ar.alafasy/2.mp3\")['duration'])"
   ]
  },
  {
   "cell_type": "code",
   "execution_count": 7,
   "metadata": {},
   "outputs": [],
   "source": [
    "# load surasList.json\n",
    "import json\n",
    "suras = json.load(open('suras.json'))\n",
    "surasList = json.load(open('surasList.json'))\n",
    "\n",
    "surahWords = []\n",
    "for i, surah in enumerate(suras):\n",
    "    surahObj = {}\n",
    "    surahObj['name'] = surasList[i]['name']\n",
    "    surahObj['words'] = []\n",
    "    surahObj['lastWordsinAyah'] = []\n",
    "    surahObj['ayahRanges'] = []\n",
    "    num_words_so_far = 0\n",
    "    for i, ayahObj in enumerate(surah):\n",
    "        ayahWords = ayahObj['ayah'].split(' ')\n",
    "        \n",
    "        surahObj['words'].extend(ayahWords)\n",
    "        num_words_so_far += len(ayahWords)\n",
    "        surahObj['lastWordsinAyah'].append(num_words_so_far-1)\n",
    "        surahObj['ayahRanges'].append((num_words_so_far-len(ayahWords), num_words_so_far-1))\n",
    "    surahWords.append(surahObj)\n",
    "\n",
    "    \n",
    "    \n",
    "    \n",
    "with open('surasByWords.json', 'w') as f:\n",
    "    json.dump(surahWords, f, indent=4, ensure_ascii=False)"
   ]
  },
  {
   "cell_type": "code",
   "execution_count": 3,
   "metadata": {},
   "outputs": [],
   "source": [
    "from tqdm.notebook import tqdm\n",
    "\n",
    "dur = 0\n",
    "firstAyah = int(surasList[1]['firstAyah']) \n",
    "numAyahs =  int(surasList[1]['numAyas'])\n",
    "print(numAyahs)"
   ]
  },
  {
   "cell_type": "code",
   "execution_count": 32,
   "metadata": {},
   "outputs": [
    {
     "data": {
      "application/vnd.jupyter.widget-view+json": {
       "model_id": "f4ee1bc8d46b46ceb5370172a850a6e5",
       "version_major": 2,
       "version_minor": 0
      },
      "text/plain": [
       "  0%|          | 0/286 [00:00<?, ?it/s]"
      ]
     },
     "metadata": {},
     "output_type": "display_data"
    }
   ],
   "source": [
    "for i in tqdm(range (firstAyah, firstAyah  + numAyahs)):\n",
    "    url = f\"https://cdn.islamic.network/quran/audio/128/ar.alafasy/{i+1}.mp3\"\n",
    "    dur += float(mediainfo(url)['duration'])"
   ]
  },
  {
   "cell_type": "code",
   "execution_count": 33,
   "metadata": {},
   "outputs": [
    {
     "name": "stdout",
     "output_type": "stream",
     "text": [
      "8638.667733000002\n"
     ]
    }
   ],
   "source": [
    "print(dur)"
   ]
  }
 ],
 "metadata": {
  "kernelspec": {
   "display_name": "Python 3",
   "language": "python",
   "name": "python3"
  },
  "language_info": {
   "codemirror_mode": {
    "name": "ipython",
    "version": 3
   },
   "file_extension": ".py",
   "mimetype": "text/x-python",
   "name": "python",
   "nbconvert_exporter": "python",
   "pygments_lexer": "ipython3",
   "version": "3.9.16"
  }
 },
 "nbformat": 4,
 "nbformat_minor": 2
}

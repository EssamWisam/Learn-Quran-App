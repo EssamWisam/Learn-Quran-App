{
 "cells": [
  {
   "cell_type": "markdown",
   "metadata": {},
   "source": [
    "This script was used to split the single text file containing the whole quran into 114 suras"
   ]
  },
  {
   "cell_type": "code",
   "execution_count": 7,
   "metadata": {},
   "outputs": [],
   "source": [
    "file_path = 'quran.txt'\n",
    "with open(file_path, 'r', encoding='utf-8') as file:\n",
    "    markdown_content = file.read()"
   ]
  },
  {
   "cell_type": "code",
   "execution_count": 8,
   "metadata": {},
   "outputs": [],
   "source": [
    "def english_to_arabic_digits(number):\n",
    "    english_digits = '0123456789'\n",
    "    arabic_digits = '۰۱۲۳٤٥٦٧۸۹'\n",
    "    mapping = str.maketrans(english_digits, arabic_digits)\n",
    "    return number.translate(mapping)"
   ]
  },
  {
   "cell_type": "code",
   "execution_count": 9,
   "metadata": {},
   "outputs": [
    {
     "data": {
      "text/plain": [
       "''"
      ]
     },
     "execution_count": 9,
     "metadata": {},
     "output_type": "execute_result"
    }
   ],
   "source": [
    "z = english_to_arabic_digits(markdown_content)\n",
    "z = z.split('{_')\n",
    "z.pop(0)"
   ]
  },
  {
   "cell_type": "code",
   "execution_count": 10,
   "metadata": {},
   "outputs": [],
   "source": [
    "suras = [\n",
    "    \"الفاتحة\",\n",
    "    \"البقرة\",\n",
    "    \"آل عمران\",\n",
    "    \"النساء\",\n",
    "    \"المائدة\",\n",
    "    \"الأنعام\",\n",
    "    \"الأعراف\",\n",
    "    \"الأنفال\",\n",
    "    \"التوبة\",\n",
    "    \"يونس\",\n",
    "    \"هود\",\n",
    "    \"يوسف\",\n",
    "    \"الرعد\",\n",
    "    \"إبراهيم\",\n",
    "    \"الحجر\",\n",
    "    \"النحل\",\n",
    "    \"الإسراء\",\n",
    "    \"الكهف\",\n",
    "    \"مريم\",\n",
    "    \"طه\",\n",
    "    \"الأنبياء\",\n",
    "    \"الحج\",\n",
    "    \"المؤمنون\",\n",
    "    \"النور\",\n",
    "    \"الفرقان\",\n",
    "    \"الشعراء\",\n",
    "    \"النمل\",\n",
    "    \"القصص\",\n",
    "    \"العنكبوت\",\n",
    "    \"الروم\",\n",
    "    \"لقمان\",\n",
    "    \"السجدة\",\n",
    "    \"الأحزاب\",\n",
    "    \"سبأ\",\n",
    "    \"فاطر\",\n",
    "    \"يس\",\n",
    "    \"الصافات\",\n",
    "    \"ص\",\n",
    "    \"الزمر\",\n",
    "    \"غافر\",\n",
    "    \"فصلت\",\n",
    "    \"الشورى\",\n",
    "    \"الزخرف\",\n",
    "    \"الدخان\",\n",
    "    \"الجاثية\",\n",
    "    \"الأحقاف\",\n",
    "    \"محمد\",\n",
    "    \"الفتح\",\n",
    "    \"الحجرات\",\n",
    "    \"ق\",\n",
    "    \"الذاريات\",\n",
    "    \"الطور\",\n",
    "    \"النجم\",\n",
    "    \"القمر\",\n",
    "    \"الرحمن\",\n",
    "    \"الواقعة\",\n",
    "    \"الحديد\",\n",
    "    \"المجادلة\",\n",
    "    \"الحشر\",\n",
    "    \"الممتحنة\",\n",
    "    \"الصف\",\n",
    "    \"الجمعة\",\n",
    "    \"المنافقون\",\n",
    "    \"التغابن\",\n",
    "    \"الطلاق\",\n",
    "    \"التحريم\",\n",
    "    \"الملك\",\n",
    "    \"القلم\",\n",
    "    \"الحاقة\",\n",
    "    \"المعارج\",\n",
    "    \"نوح\",\n",
    "    \"الجن\",\n",
    "    \"المزّمِّل\",\n",
    "    \"المدّثر\",\n",
    "    \"القيامة\",\n",
    "    \"الإنسان\",\n",
    "    \"المرسلات\",\n",
    "    \"النبأ\",\n",
    "    \"النازعات\",\n",
    "    \"عبس\",\n",
    "    \"التكوير\",\n",
    "    \"الإنفطار\",\n",
    "    \"المطففين\",\n",
    "    \"الانشقاق\",\n",
    "    \"البروج\",\n",
    "    \"الطارق\",\n",
    "    \"الأعلى\",\n",
    "    \"الغاشية\",\n",
    "    \"الفجر\",\n",
    "    \"البلد\",\n",
    "    \"الشمس\",\n",
    "    \"الليل\",\n",
    "    \"الضحى\",\n",
    "    \"الشرح\",\n",
    "    \"التين\",\n",
    "    \"العلق\",\n",
    "    \"القدر\",\n",
    "    \"البينة\",\n",
    "    \"الزلزلة\",\n",
    "    \"العاديات\",\n",
    "    \"القارعة\",\n",
    "    \"التكاثر\",\n",
    "    \"العصر\",\n",
    "    \"الهُمَزَة\",\n",
    "    \"الفيل\",\n",
    "    \"قريش\",\n",
    "    \"الماعون\",\n",
    "    \"الكوثر\",\n",
    "    \"الكافرون\",\n",
    "    \"النصر\",\n",
    "    \"المسد\",\n",
    "    \"الإخلاص\",\n",
    "    \"الفلق\",\n",
    "    \"الناس\"\n",
    "]"
   ]
  },
  {
   "cell_type": "code",
   "execution_count": 11,
   "metadata": {},
   "outputs": [],
   "source": [
    "import re\n",
    "\n",
    "def insert_newlines_after_curly_braces(text):\n",
    "    # Define the regex pattern\n",
    "    pattern = r'\\{.*?\\}'  # Matches curly braces containing any character\n",
    "\n",
    "    # Replace each match with the match followed by [[\\n\\n\\n]]\n",
    "    result = re.sub(pattern, lambda x: x.group(0) + \"\\n[[\\n\\n\\n]]\", text)\n",
    "\n",
    "    return result"
   ]
  },
  {
   "cell_type": "code",
   "execution_count": 12,
   "metadata": {},
   "outputs": [],
   "source": [
    "for i, surah in enumerate(suras):\n",
    "    # make a text file with surah name\n",
    "    with open(f'{i}-{surah}.rtl.md', 'w', encoding='utf-8') as file:\n",
    "        # remove the first line in z[i]\n",
    "        zi = z[i].split('\\n')\n",
    "        zi.pop(0)\n",
    "        zi = '\\n'.join(zi)\n",
    "        zi = insert_newlines_after_curly_braces(zi).strip()\n",
    "        file.write(zi)\n"
   ]
  }
 ],
 "metadata": {
  "kernelspec": {
   "display_name": "Python 3",
   "language": "python",
   "name": "python3"
  },
  "language_info": {
   "codemirror_mode": {
    "name": "ipython",
    "version": 3
   },
   "file_extension": ".py",
   "mimetype": "text/x-python",
   "name": "python",
   "nbconvert_exporter": "python",
   "pygments_lexer": "ipython3",
   "version": "3.9.16"
  }
 },
 "nbformat": 4,
 "nbformat_minor": 2
}

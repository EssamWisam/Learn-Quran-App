{
 "cells": [
  {
   "cell_type": "markdown",
   "metadata": {},
   "source": [
    "This script parses each of the markdown files into JSON"
   ]
  },
  {
   "cell_type": "code",
   "execution_count": 42,
   "metadata": {},
   "outputs": [],
   "source": [
    "import re\n",
    "\n",
    "def extract_and_remove_pattern(input_string):\n",
    "    # Regular expression pattern to match [[<anytext>]]\n",
    "    pattern = r'\\[\\[(.*?)\\]\\]'\n",
    "\n",
    "    # Find all occurrences of the pattern in the input string\n",
    "    matches = re.findall(pattern, input_string, flags=re.DOTALL)\n",
    "\n",
    "    # Remove the pattern from the input string\n",
    "    clean_string = re.sub(pattern, '', input_string, flags=re.DOTALL)\n",
    "\n",
    "    return clean_string, matches\n"
   ]
  },
  {
   "cell_type": "code",
   "execution_count": 43,
   "metadata": {},
   "outputs": [],
   "source": [
    "def subparser(json, matches):\n",
    "    for index, match in enumerate(matches):\n",
    "        json[index][\"content\"] = match.strip()\n",
    "    return json"
   ]
  },
  {
   "cell_type": "code",
   "execution_count": 44,
   "metadata": {},
   "outputs": [],
   "source": [
    "import os\n",
    "import json\n",
    "\n",
    "# Get the current directory\n",
    "current_dir = os.getcwd()\n",
    "\n",
    "# Create a folder named \"jsons\" if it doesn't exist\n",
    "jsons_dir = os.path.join(current_dir, \"quran-json\")\n",
    "if not os.path.exists(jsons_dir):\n",
    "    os.makedirs(jsons_dir)\n",
    "\n",
    "# Get a list of all markdown files in the current directory\n",
    "markdown_files = [file for file in os.listdir(current_dir) if file.endswith('.md')]\n",
    "\n",
    "import re\n",
    "def parser(markdown):\n",
    "    splitted_markdown = re.split(r'\\{.*?\\}', markdown)\n",
    "    splitted_markdown = [part.strip() for part in splitted_markdown if part.strip()]\n",
    "    json = [{\"rakam\": index, \"ayah\": ayah} for index, ayah in enumerate(splitted_markdown, 1)]\n",
    "    return json\n",
    "\n",
    "# Loop over each markdown file\n",
    "for i, markdown_file in enumerate(markdown_files):\n",
    "    # Read the content of the markdown file\n",
    "    with open(markdown_file, 'r') as f:\n",
    "        markdown_content = f.read().strip()\n",
    "    \n",
    "    # Create a corresponding JSON\n",
    "    markdown_content, matches = extract_and_remove_pattern(markdown_content)\n",
    "    json_content = parser(markdown_content)\n",
    "    assert len(matches) == len(json_content)\n",
    "    json_content = subparser(json_content, matches)\n",
    "    \n",
    "    # Write the JSON to a new file in the \"jsons\" folder with the same name but a .json extension\n",
    "    json_file = os.path.join(jsons_dir, os.path.splitext(markdown_file)[0] + '.json')\n",
    "    with open(json_file, 'w') as f:\n",
    "        json.dump(json_content, f, ensure_ascii=False, indent=4)"
   ]
  }
 ],
 "metadata": {
  "kernelspec": {
   "display_name": "Python 3",
   "language": "python",
   "name": "python3"
  },
  "language_info": {
   "codemirror_mode": {
    "name": "ipython",
    "version": 3
   },
   "file_extension": ".py",
   "mimetype": "text/x-python",
   "name": "python",
   "nbconvert_exporter": "python",
   "pygments_lexer": "ipython3",
   "version": "3.9.16"
  }
 },
 "nbformat": 4,
 "nbformat_minor": 2
}
